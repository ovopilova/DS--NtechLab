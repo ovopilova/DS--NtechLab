{
  "nbformat": 4,
  "nbformat_minor": 0,
  "metadata": {
    "colab": {
      "name": "Untitled0.ipynb",
      "provenance": []
    },
    "kernelspec": {
      "name": "python3",
      "display_name": "Python 3"
    },
    "accelerator": "GPU",
    "widgets": {
      "application/vnd.jupyter.widget-state+json": {
        "32f8682304dd4e9badf929fc1a1cec7e": {
          "model_module": "@jupyter-widgets/controls",
          "model_name": "HBoxModel",
          "state": {
            "_view_name": "HBoxView",
            "_dom_classes": [],
            "_model_name": "HBoxModel",
            "_view_module": "@jupyter-widgets/controls",
            "_model_module_version": "1.5.0",
            "_view_count": null,
            "_view_module_version": "1.5.0",
            "box_style": "",
            "layout": "IPY_MODEL_7e72f5f8046f475a9c26880701c21874",
            "_model_module": "@jupyter-widgets/controls",
            "children": [
              "IPY_MODEL_4ef70001661944bb8874424523e071af",
              "IPY_MODEL_6464a462c3fb41d7bbec13efd8f6179c"
            ]
          }
        },
        "7e72f5f8046f475a9c26880701c21874": {
          "model_module": "@jupyter-widgets/base",
          "model_name": "LayoutModel",
          "state": {
            "_view_name": "LayoutView",
            "grid_template_rows": null,
            "right": null,
            "justify_content": null,
            "_view_module": "@jupyter-widgets/base",
            "overflow": null,
            "_model_module_version": "1.2.0",
            "_view_count": null,
            "flex_flow": null,
            "width": null,
            "min_width": null,
            "border": null,
            "align_items": null,
            "bottom": null,
            "_model_module": "@jupyter-widgets/base",
            "top": null,
            "grid_column": null,
            "overflow_y": null,
            "overflow_x": null,
            "grid_auto_flow": null,
            "grid_area": null,
            "grid_template_columns": null,
            "flex": null,
            "_model_name": "LayoutModel",
            "justify_items": null,
            "grid_row": null,
            "max_height": null,
            "align_content": null,
            "visibility": null,
            "align_self": null,
            "height": null,
            "min_height": null,
            "padding": null,
            "grid_auto_rows": null,
            "grid_gap": null,
            "max_width": null,
            "order": null,
            "_view_module_version": "1.2.0",
            "grid_template_areas": null,
            "object_position": null,
            "object_fit": null,
            "grid_auto_columns": null,
            "margin": null,
            "display": null,
            "left": null
          }
        },
        "4ef70001661944bb8874424523e071af": {
          "model_module": "@jupyter-widgets/controls",
          "model_name": "FloatProgressModel",
          "state": {
            "_view_name": "ProgressView",
            "style": "IPY_MODEL_88a375e81c84417290f79aaf3226bcb7",
            "_dom_classes": [],
            "description": "100%",
            "_model_name": "FloatProgressModel",
            "bar_style": "success",
            "max": 102502400,
            "_view_module": "@jupyter-widgets/controls",
            "_model_module_version": "1.5.0",
            "value": 102502400,
            "_view_count": null,
            "_view_module_version": "1.5.0",
            "orientation": "horizontal",
            "min": 0,
            "description_tooltip": null,
            "_model_module": "@jupyter-widgets/controls",
            "layout": "IPY_MODEL_f4b7c12dc0b1496bb690793fce8ec4fc"
          }
        },
        "6464a462c3fb41d7bbec13efd8f6179c": {
          "model_module": "@jupyter-widgets/controls",
          "model_name": "HTMLModel",
          "state": {
            "_view_name": "HTMLView",
            "style": "IPY_MODEL_4836524c2678450cb1645ea443ff933e",
            "_dom_classes": [],
            "description": "",
            "_model_name": "HTMLModel",
            "placeholder": "​",
            "_view_module": "@jupyter-widgets/controls",
            "_model_module_version": "1.5.0",
            "value": " 97.8M/97.8M [2:15:39&lt;00:00, 12.6kB/s]",
            "_view_count": null,
            "_view_module_version": "1.5.0",
            "description_tooltip": null,
            "_model_module": "@jupyter-widgets/controls",
            "layout": "IPY_MODEL_da52904f7b124980854159ae2209e853"
          }
        },
        "88a375e81c84417290f79aaf3226bcb7": {
          "model_module": "@jupyter-widgets/controls",
          "model_name": "ProgressStyleModel",
          "state": {
            "_view_name": "StyleView",
            "_model_name": "ProgressStyleModel",
            "description_width": "initial",
            "_view_module": "@jupyter-widgets/base",
            "_model_module_version": "1.5.0",
            "_view_count": null,
            "_view_module_version": "1.2.0",
            "bar_color": null,
            "_model_module": "@jupyter-widgets/controls"
          }
        },
        "f4b7c12dc0b1496bb690793fce8ec4fc": {
          "model_module": "@jupyter-widgets/base",
          "model_name": "LayoutModel",
          "state": {
            "_view_name": "LayoutView",
            "grid_template_rows": null,
            "right": null,
            "justify_content": null,
            "_view_module": "@jupyter-widgets/base",
            "overflow": null,
            "_model_module_version": "1.2.0",
            "_view_count": null,
            "flex_flow": null,
            "width": null,
            "min_width": null,
            "border": null,
            "align_items": null,
            "bottom": null,
            "_model_module": "@jupyter-widgets/base",
            "top": null,
            "grid_column": null,
            "overflow_y": null,
            "overflow_x": null,
            "grid_auto_flow": null,
            "grid_area": null,
            "grid_template_columns": null,
            "flex": null,
            "_model_name": "LayoutModel",
            "justify_items": null,
            "grid_row": null,
            "max_height": null,
            "align_content": null,
            "visibility": null,
            "align_self": null,
            "height": null,
            "min_height": null,
            "padding": null,
            "grid_auto_rows": null,
            "grid_gap": null,
            "max_width": null,
            "order": null,
            "_view_module_version": "1.2.0",
            "grid_template_areas": null,
            "object_position": null,
            "object_fit": null,
            "grid_auto_columns": null,
            "margin": null,
            "display": null,
            "left": null
          }
        },
        "4836524c2678450cb1645ea443ff933e": {
          "model_module": "@jupyter-widgets/controls",
          "model_name": "DescriptionStyleModel",
          "state": {
            "_view_name": "StyleView",
            "_model_name": "DescriptionStyleModel",
            "description_width": "",
            "_view_module": "@jupyter-widgets/base",
            "_model_module_version": "1.5.0",
            "_view_count": null,
            "_view_module_version": "1.2.0",
            "_model_module": "@jupyter-widgets/controls"
          }
        },
        "da52904f7b124980854159ae2209e853": {
          "model_module": "@jupyter-widgets/base",
          "model_name": "LayoutModel",
          "state": {
            "_view_name": "LayoutView",
            "grid_template_rows": null,
            "right": null,
            "justify_content": null,
            "_view_module": "@jupyter-widgets/base",
            "overflow": null,
            "_model_module_version": "1.2.0",
            "_view_count": null,
            "flex_flow": null,
            "width": null,
            "min_width": null,
            "border": null,
            "align_items": null,
            "bottom": null,
            "_model_module": "@jupyter-widgets/base",
            "top": null,
            "grid_column": null,
            "overflow_y": null,
            "overflow_x": null,
            "grid_auto_flow": null,
            "grid_area": null,
            "grid_template_columns": null,
            "flex": null,
            "_model_name": "LayoutModel",
            "justify_items": null,
            "grid_row": null,
            "max_height": null,
            "align_content": null,
            "visibility": null,
            "align_self": null,
            "height": null,
            "min_height": null,
            "padding": null,
            "grid_auto_rows": null,
            "grid_gap": null,
            "max_width": null,
            "order": null,
            "_view_module_version": "1.2.0",
            "grid_template_areas": null,
            "object_position": null,
            "object_fit": null,
            "grid_auto_columns": null,
            "margin": null,
            "display": null,
            "left": null
          }
        }
      }
    }
  },
  "cells": [
    {
      "cell_type": "code",
      "metadata": {
        "id": "g32zY069Fk07",
        "colab_type": "code",
        "colab": {}
      },
      "source": [
        "import tarfile\n",
        "tar = tarfile.open(\"/content/drive/My Drive/task_assignment/internship_data.tar.gz\", \"r\") #разархивируем данные\n",
        "tar.extractall()"
      ],
      "execution_count": 1,
      "outputs": []
    },
    {
      "cell_type": "code",
      "metadata": {
        "id": "QOSruAgiFrWq",
        "colab_type": "code",
        "colab": {
          "base_uri": "https://localhost:8080/",
          "height": 107
        },
        "outputId": "e091cd62-e5d4-4431-cf81-5b71340b514d"
      },
      "source": [
        "!pip install split-folders #используется далее для разбиения данных на тренировочный и валидационный наборы"
      ],
      "execution_count": 2,
      "outputs": [
        {
          "output_type": "stream",
          "text": [
            "Collecting split-folders\n",
            "  Downloading https://files.pythonhosted.org/packages/d1/4b/7b282b0f9319189d71e803220748929b37d019b67b1782d14c59cb1bd940/split_folders-0.4.2-py3-none-any.whl\n",
            "Installing collected packages: split-folders\n",
            "Successfully installed split-folders-0.4.2\n"
          ],
          "name": "stdout"
        }
      ]
    },
    {
      "cell_type": "code",
      "metadata": {
        "id": "hvAArOrUFsQG",
        "colab_type": "code",
        "colab": {}
      },
      "source": [
        "import splitfolders"
      ],
      "execution_count": 3,
      "outputs": []
    },
    {
      "cell_type": "code",
      "metadata": {
        "id": "lMe_aqlFFtUo",
        "colab_type": "code",
        "colab": {
          "base_uri": "https://localhost:8080/",
          "height": 34
        },
        "outputId": "3060a62d-7b9c-4a5b-94ac-0fcc310c43f5"
      },
      "source": [
        "splitfolders.ratio(\"internship_data\", output = \"split\", seed = 42, ratio=(.8, .2), group_prefix = None) #разбиваем данные"
      ],
      "execution_count": 4,
      "outputs": [
        {
          "output_type": "stream",
          "text": [
            "Copying files: 100002 files [00:49, 2040.05 files/s]\n"
          ],
          "name": "stderr"
        }
      ]
    },
    {
      "cell_type": "code",
      "metadata": {
        "id": "yo27jkgbFuVP",
        "colab_type": "code",
        "colab": {}
      },
      "source": [
        "#импортируем все необходимые модули\n",
        "from __future__ import print_function, division\n",
        "\n",
        "import torch\n",
        "import torch.nn as nn\n",
        "import torch.optim as optim\n",
        "from torch.optim import lr_scheduler\n",
        "import numpy as np\n",
        "import torchvision\n",
        "from torchvision import datasets, models, transforms\n",
        "import matplotlib.pyplot as plt\n",
        "import time\n",
        "import os\n",
        "import copy\n",
        "\n",
        "plt.ion() "
      ],
      "execution_count": 5,
      "outputs": []
    },
    {
      "cell_type": "code",
      "metadata": {
        "id": "MWMuE7oTFvbo",
        "colab_type": "code",
        "colab": {}
      },
      "source": [
        "data_transforms = { #предварительная обработка картинок\n",
        "    'train': transforms.Compose([\n",
        "        transforms.Resize(256),\n",
        "        transforms.CenterCrop(224),\n",
        "        transforms.ToTensor(), #преобразовывем в torch images\n",
        "        transforms.Normalize(mean=[0.485, 0.456, 0.406], std=[0.229, 0.224, 0.225])\n",
        "    ]),\n",
        "    'val': transforms.Compose([\n",
        "        transforms.Resize(256),\n",
        "        transforms.CenterCrop(224),\n",
        "        transforms.ToTensor(),\n",
        "        transforms.Normalize(mean=[0.485, 0.456, 0.406], std=[0.229, 0.224, 0.225])\n",
        "    ]),\n",
        "}\n",
        "dir = 'split'\n",
        "#загружаем и перемешиваем\n",
        "dataset = {x: datasets.ImageFolder(os.path.join(dir, x), data_transforms[x]) for x in ['train', 'val']}\n",
        "dataloader = {x: torch.utils.data.DataLoader(dataset[x], batch_size = 64, shuffle = True) for x in ['train', 'val']}\n",
        "sizes = {x: len(dataset[x]) for x in ['train', 'val']} \n",
        "class_names = dataset['train'].classes #в переменную class_names помещаем названия классов\n",
        "device = torch.device(\"cuda:0\" if torch.cuda.is_available() else \"cpu\") #при наличии возможности используем gpu"
      ],
      "execution_count": 6,
      "outputs": []
    },
    {
      "cell_type": "code",
      "metadata": {
        "id": "YaFvpv_PFwp3",
        "colab_type": "code",
        "colab": {
          "base_uri": "https://localhost:8080/",
          "height": 147
        },
        "outputId": "2e7974cb-ed0d-45c9-982a-7b4c06c7efe4"
      },
      "source": [
        "#создадим еще один dataloader с batch_size = 4, чтобы в следующей функции визуализировать 4 картинки\n",
        "loader = {x: torch.utils.data.DataLoader(dataset['train'], batch_size = 4, shuffle = True) for x in ['train', 'val']}\n",
        "def viz(images, title): #функция для визуализации нескольких картинок\n",
        "    images = images.numpy().transpose((1, 2, 0))\n",
        "    mean = np.array([0.485, 0.456, 0.406])\n",
        "    std = np.array([0.229, 0.224, 0.225])\n",
        "    images = std * images + mean #из формулы x = (x-E)/σ\n",
        "    plt.imshow(images)\n",
        "    plt.title(title)\n",
        "input, classes = next(iter(loader['train']))\n",
        "images = torchvision.utils.make_grid(input)\n",
        "\n",
        "viz(images, title = [class_names[x] for x in classes])"
      ],
      "execution_count": 7,
      "outputs": [
        {
          "output_type": "display_data",
          "data": {
            "image/png": "[encoded data removed]",
            "text/plain": [
              "<Figure size 432x288 with 1 Axes>"
            ]
          },
          "metadata": {
            "tags": [],
            "needs_background": "light"
          }
        }
      ]
    },
    {
      "cell_type": "code",
      "metadata": {
        "id": "5o7QGYu4FyQP",
        "colab_type": "code",
        "colab": {}
      },
      "source": [
        "def train_model(model, criterion, optimizer, scheduler, num_epochs): #функция для тренировки модели\n",
        "    best_model = copy.deepcopy(model.state_dict()) #будет храниться модель с наибольшей точностью\n",
        "    best_acc = 0.0 #переменная, в которой будет храниться наибольшая точность\n",
        "\n",
        "    for epoch in range(num_epochs): #проходимся по всем шагам\n",
        "        print('Epoch {}/{}'.format(epoch, num_epochs - 1)) #для вывода шага в виде, например, 1/10 \n",
        "        print('-' * 10) #просто для наглядного разделения номера шага и полученных ошибок и acc\n",
        "        for stage in ['train', 'val']: #в каждом шаге два этапа: обучения и проверки\n",
        "            if stage == 'train':\n",
        "                model.train()  #если стадия обучения, то устанавливаем модель в \"режим\" тренировки\n",
        "            if stage == 'val':\n",
        "                model.eval()   #если стадия проверки, то устанавливаем модель в \"режим\" оценки\n",
        "            current_loss = 0.0 #переменная, необходимая для подсчета потери на каждом шаге\n",
        "            current_corrects = 0 #переменная, необходимая для подсчета точности на каждом шаге\n",
        "\n",
        "            for inputs, labels in dataloader[stage]: #проходимся по данным\n",
        "                inputs = inputs.to(device)\n",
        "                labels = labels.to(device)\n",
        "                optimizer.zero_grad() #обнуляем градиенты\n",
        "                with torch.set_grad_enabled(stage == 'train'): \n",
        "                    out = model(inputs) \n",
        "                    _, preds = torch.max(out, 1) #сохраняем в preds предсказанные метки\n",
        "                    loss = criterion(out, labels) \n",
        "                    if stage == 'train': \n",
        "                        loss.backward() #делаем backward propagation\n",
        "                        optimizer.step() #обновляем параметры \n",
        "                current_loss += loss.item() * inputs.size(0) #обновляем текущие потери\n",
        "                current_corrects += torch.sum(preds == labels.data) #обновляем количество правильных ответов\n",
        "                #сравнивая предсказанные значения и известные метки\n",
        "            if stage == 'train':\n",
        "                scheduler.step() #меняем learning rate\n",
        "\n",
        "            epoch_loss = current_loss / sizes[stage] #считаем ошибку на каждом шаге\n",
        "            epoch_acc = current_corrects.double() / sizes[stage] #считаем acc путем деления количества \n",
        "            #правильных ответов на общее число\n",
        "\n",
        "            print('{} loss: {:.4f} acc: {:.4f}'.format(stage, epoch_loss, epoch_acc)) #выводим ошибку и точность на каждом шаге\n",
        "            if stage == 'val' and epoch_acc > best_acc: #обновляем лучшую точность и модель\n",
        "                best_acc = epoch_acc\n",
        "                best_model = copy.deepcopy(model.state_dict())\n",
        "\n",
        "    print('Best val accuracy: {:4f}'.format(best_acc)) #выводим на экран лучшую точность\n",
        "    model.load_state_dict(best_model) #загружаем веса модели, обеспечившей лучший из результатов\n",
        "    return model"
      ],
      "execution_count": 8,
      "outputs": []
    },
    {
      "cell_type": "code",
      "metadata": {
        "id": "bUum9ZxgF0gG",
        "colab_type": "code",
        "colab": {
          "base_uri": "https://localhost:8080/",
          "height": 84,
          "referenced_widgets": [
            "32f8682304dd4e9badf929fc1a1cec7e",
            "7e72f5f8046f475a9c26880701c21874",
            "4ef70001661944bb8874424523e071af",
            "6464a462c3fb41d7bbec13efd8f6179c",
            "88a375e81c84417290f79aaf3226bcb7",
            "f4b7c12dc0b1496bb690793fce8ec4fc",
            "4836524c2678450cb1645ea443ff933e",
            "da52904f7b124980854159ae2209e853"
          ]
        },
        "outputId": "55b2ec09-72d9-43c8-bd94-7378bca12014"
      },
      "source": [
        "model_50 = models.resnet50(pretrained = True) #загружаем модель resnet50\n",
        "num_ft = model_50.fc.in_features #получаем число параметров, входящих в последний слой, чтобы изменить его\n",
        "model_50.fc = nn.Linear(num_ft, 2) #размер выходного слоя устанавливаем равным количеству классов\n",
        "model_50 = model_50.to(device)\n",
        "criterion = nn.CrossEntropyLoss() #задаём функцию потерь\n",
        "optimizer = optim.SGD(model_50.parameters(), lr = 0.01, momentum = 0.9, weight_decay = 0.0001) #задаём алгоритм оптимизации\n",
        "scheduler = lr_scheduler.StepLR(optimizer, step_size = 5, gamma = 0.1) #каждые 5 шагов будем уменьшать learning rate с коэффициентом 0.1"
      ],
      "execution_count": 9,
      "outputs": [
        {
          "output_type": "stream",
          "text": [
            "Downloading: \"https://download.pytorch.org/models/resnet50-19c8e357.pth\" to /root/.cache/torch/hub/checkpoints/resnet50-19c8e357.pth\n"
          ],
          "name": "stderr"
        },
        {
          "output_type": "display_data",
          "data": {
            "application/vnd.jupyter.widget-view+json": {
              "model_id": "32f8682304dd4e9badf929fc1a1cec7e",
              "version_minor": 0,
              "version_major": 2
            },
            "text/plain": [
              "HBox(children=(FloatProgress(value=0.0, max=102502400.0), HTML(value='')))"
            ]
          },
          "metadata": {
            "tags": []
          }
        },
        {
          "output_type": "stream",
          "text": [
            "\n"
          ],
          "name": "stdout"
        }
      ]
    },
    {
      "cell_type": "code",
      "metadata": {
        "id": "DGn7uUmfF04J",
        "colab_type": "code",
        "colab": {
          "base_uri": "https://localhost:8080/",
          "height": 532
        },
        "outputId": "35ef521c-6f68-43b2-f8eb-5fd819d33df0"
      },
      "source": [
        "model_50 = train_model(model_50, criterion, optimizer, scheduler, num_epochs = 7) #тренируем модель, делая 7 шагов оптимизации"
      ],
      "execution_count": 10,
      "outputs": [
        {
          "output_type": "stream",
          "text": [
            "Epoch 0/6\n",
            "----------\n",
            "train loss: 0.0992 acc: 0.9617\n",
            "val loss: 0.0649 acc: 0.9767\n",
            "Epoch 1/6\n",
            "----------\n",
            "train loss: 0.0481 acc: 0.9824\n",
            "val loss: 0.0659 acc: 0.9764\n",
            "Epoch 2/6\n",
            "----------\n",
            "train loss: 0.0319 acc: 0.9888\n",
            "val loss: 0.0648 acc: 0.9789\n",
            "Epoch 3/6\n",
            "----------\n",
            "train loss: 0.0228 acc: 0.9915\n",
            "val loss: 0.0740 acc: 0.9760\n",
            "Epoch 4/6\n",
            "----------\n",
            "train loss: 0.0177 acc: 0.9932\n",
            "val loss: 0.0720 acc: 0.9786\n",
            "Epoch 5/6\n",
            "----------\n",
            "train loss: 0.0058 acc: 0.9982\n",
            "val loss: 0.0661 acc: 0.9822\n",
            "Epoch 6/6\n",
            "----------\n",
            "train loss: 0.0018 acc: 0.9997\n",
            "val loss: 0.0703 acc: 0.9827\n",
            "Best val accuracy: 0.982652\n"
          ],
          "name": "stdout"
        }
      ]
    },
    {
      "cell_type": "code",
      "metadata": {
        "id": "0gpkG1XgF2Qr",
        "colab_type": "code",
        "colab": {}
      },
      "source": [
        "torch.save(model_50, 'model_resnet50_7_steps.pth') #сохраняем натренированную модель"
      ],
      "execution_count": 11,
      "outputs": []
    },
    {
      "cell_type": "code",
      "metadata": {
        "id": "bpDrRl0PF67o",
        "colab_type": "code",
        "colab": {}
      },
      "source": [
        ""
      ],
      "execution_count": null,
      "outputs": []
    }
  ]
}