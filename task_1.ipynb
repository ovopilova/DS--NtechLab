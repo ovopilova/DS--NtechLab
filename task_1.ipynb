{
 "cells": [
  {
   "cell_type": "markdown",
   "metadata": {},
   "source": [
    "# Задание №1\n",
    "Найти непрерывный подмассив в массиве, содержащий хотя бы одно число, который имеет наибольшую сумму."
   ]
  },
  {
   "cell_type": "code",
   "execution_count": 1,
   "metadata": {},
   "outputs": [],
   "source": [
    "#import numpy as np\n",
    "def findMaxSubArray(A): \n",
    "    maxint = 10 ** 100000\n",
    "    #maxint = np.inf - в задании указано, что библиотеки использоваться не должны, \n",
    "    #но если бы можно было бы, то сделала бы так\n",
    "    ind_first = 0 #индекс начала искомого подмассива\n",
    "    ind_last = 0 #индекс конца искомого подмассива\n",
    "    max_sum = - maxint #переменная, отвечающая за наибольшую сумму, т.е. сумма искомого подмассива\n",
    "    sum_ = 0 #текущая сумма \n",
    "    j = 0 #первый элемент текущего подмассива\n",
    "    for i in range (len(A)): #проходимся по всему массиву\n",
    "        sum_ = sum_ + A[i] #к имеющейся сумме прибавляем текущий элемент массива\n",
    "        if (max_sum < sum_): #если эта сумма больше максимальной, то максимальную приравниваем к текущей, также можно поставить <=, тогда при наличии подмассивов с одинаковой суммой будет выбираться наибольшей длины\n",
    "            max_sum = sum_ \n",
    "            ind_last = i #т.к. меняется максимальная сумма, то меняется и номер последнего элемента подмассива\n",
    "            ind_first = j #аналогично с первым элементом\n",
    "        if sum_ < 0: #если текущая сумма элементов отрицательна - нет смысла её прибавлять\n",
    "            sum_ = 0 #поэтому в таком случае текущую сумму обнуляем\n",
    "            j = i + 1 #т.к. первые элементы дали в сумме отрицательное число, то номер первого элемента подмассива меняем\n",
    "    if ind_first < ind_last: #если подмассив не из одного элемента\n",
    "        print(\"Подмассив с наибольшей суммой:\", A[ind_first: ind_last + 1]) #выводим искомый подмассив\n",
    "    else:\n",
    "        print(\"Подмассив с наибольшей суммой: [\", A[ind_last], end = ']')\n",
    "    #return max_sum #при желании можно выводить и саму сумму подмассива"
   ]
  },
  {
   "cell_type": "code",
   "execution_count": 2,
   "metadata": {},
   "outputs": [
    {
     "name": "stdout",
     "output_type": "stream",
     "text": [
      "Подмассив с наибольшей суммой: [4, -1, 2, 1]\n"
     ]
    }
   ],
   "source": [
    "findMaxSubArray([-2, 1, -3, 4, -1, 2, 1, -5, 4]) #проверяем пример из задания"
   ]
  },
  {
   "cell_type": "markdown",
   "metadata": {},
   "source": [
    "Данное решение рассматривает и тот вариант, когда все элементы массива отрицательные, поскольку в таком случае текущая сумма всегда будет обнуляться в силу последнего if, а в максимальной в итоге окажется максимальный элемент массива (минимальное по модулю отрицательное число). Продемонстрируем это на примере:"
   ]
  },
  {
   "cell_type": "code",
   "execution_count": 3,
   "metadata": {},
   "outputs": [
    {
     "name": "stdout",
     "output_type": "stream",
     "text": [
      "Подмассив с наибольшей суммой: [ -1]"
     ]
    }
   ],
   "source": [
    "findMaxSubArray([-2, -1000, -1, -50])"
   ]
  },
  {
   "cell_type": "markdown",
   "metadata": {},
   "source": [
    "Проверим работу на других примерах:"
   ]
  },
  {
   "cell_type": "code",
   "execution_count": 4,
   "metadata": {},
   "outputs": [
    {
     "name": "stdout",
     "output_type": "stream",
     "text": [
      "Подмассив с наибольшей суммой: [1, 5, -3, 4, 8]\n"
     ]
    }
   ],
   "source": [
    "findMaxSubArray([1, 5, -3, 4, 8, -15, 10, -6, 4, 7, -18])"
   ]
  },
  {
   "cell_type": "code",
   "execution_count": 5,
   "metadata": {},
   "outputs": [
    {
     "name": "stdout",
     "output_type": "stream",
     "text": [
      "Подмассив с наибольшей суммой: [4, 17]\n"
     ]
    }
   ],
   "source": [
    "findMaxSubArray([7, 5, -3, -1000, 4, 17, -8000, 20, -11, 8, -20])"
   ]
  },
  {
   "cell_type": "code",
   "execution_count": 6,
   "metadata": {},
   "outputs": [
    {
     "name": "stdout",
     "output_type": "stream",
     "text": [
      "Подмассив с наибольшей суммой: [6, 8, 4, -5, 2, -3, 1, -13, 12, 0, 7]\n"
     ]
    }
   ],
   "source": [
    "findMaxSubArray([6, 8, 4, -5, 2, -3, 1, -13, 12, 0, 7, -6, -7, 4])"
   ]
  },
  {
   "cell_type": "code",
   "execution_count": 7,
   "metadata": {},
   "outputs": [
    {
     "name": "stdout",
     "output_type": "stream",
     "text": [
      "Подмассив с наибольшей суммой: [5, 3, -3, 1, 2, 8, -9, -2, 7, 4, 3]\n"
     ]
    }
   ],
   "source": [
    "findMaxSubArray([5, 3, -3, 1, 2, 8, -9, -2, 7, 4, 3, -5, 1])"
   ]
  },
  {
   "cell_type": "code",
   "execution_count": 8,
   "metadata": {},
   "outputs": [
    {
     "name": "stdout",
     "output_type": "stream",
     "text": [
      "Подмассив с наибольшей суммой: [6, 3, 7]\n"
     ]
    }
   ],
   "source": [
    "findMaxSubArray([-2, 4, 2, -3, 5, -9, 6, 3, 7, -1, 1])"
   ]
  }
 ],
 "metadata": {
  "kernelspec": {
   "display_name": "Python 3",
   "language": "python",
   "name": "python3"
  },
  "language_info": {
   "codemirror_mode": {
    "name": "ipython",
    "version": 3
   },
   "file_extension": ".py",
   "mimetype": "text/x-python",
   "name": "python",
   "nbconvert_exporter": "python",
   "pygments_lexer": "ipython3",
   "version": "3.7.4"
  }
 },
 "nbformat": 4,
 "nbformat_minor": 2
}
