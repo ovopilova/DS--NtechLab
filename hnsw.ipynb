{
  "nbformat": 4,
  "nbformat_minor": 0,
  "metadata": {
    "colab": {
      "name": "Untitled11.ipynb",
      "provenance": [],
      "mount_file_id": "1lsf_CULDooMAw7uDHsw_EucUINy1EawO",
      "authorship_tag": "ABX9TyNphXp7WuoWDIvPkMLoXR7o",
      "include_colab_link": true
    },
    "kernelspec": {
      "name": "python3",
      "display_name": "Python 3"
    }
  },
  "cells": [
    {
      "cell_type": "markdown",
      "metadata": {
        "id": "view-in-github",
        "colab_type": "text"
      },
      "source": [
        "<a href=\"https://colab.research.google.com/github/ovopilova/DS--NtechLab/blob/master/hnsw.ipynb\" target=\"_parent\"><img src=\"https://colab.research.google.com/assets/colab-badge.svg\" alt=\"Open In Colab\"/></a>"
      ]
    },
    {
      "cell_type": "code",
      "metadata": {
        "id": "TQ674kaLn2hr",
        "outputId": "ade91352-6875-45b4-82ea-a8c494a8e264",
        "colab": {
          "base_uri": "https://localhost:8080/"
        }
      },
      "source": [
        "!pip install nmslib\n",
        "import nmslib\n",
        "import numpy\n",
        "\n",
        "# create a random matrix to index\n",
        "data = numpy.random.randn(10000, 100).astype(numpy.float32)\n",
        "\n",
        "# initialize a new index, using a HNSW index on Cosine Similarity\n",
        "index = nmslib.init(method='hnsw', space='cosinesimil')\n",
        "index.addDataPointBatch(data)\n",
        "index.createIndex({'post': 2}, print_progress=True)\n",
        "\n",
        "# query for the nearest neighbours of the first datapoint\n",
        "ids, distances = index.knnQuery(data[0], k=10)\n",
        "\n",
        "# get all nearest neighbours for all the datapoint\n",
        "# using a pool of 4 threads to compute\n",
        "neighbours = index.knnQueryBatch(data, k=10, num_threads=4)"
      ],
      "execution_count": 1,
      "outputs": [
        {
          "output_type": "stream",
          "text": [
            "Requirement already satisfied: nmslib in /usr/local/lib/python3.6/dist-packages (2.0.6)\n",
            "Requirement already satisfied: numpy>=1.10.0 in /usr/local/lib/python3.6/dist-packages (from nmslib) (1.18.5)\n",
            "Requirement already satisfied: psutil in /usr/local/lib/python3.6/dist-packages (from nmslib) (5.4.8)\n",
            "Requirement already satisfied: pybind11>=2.2.3 in /usr/local/lib/python3.6/dist-packages (from nmslib) (2.6.0)\n"
          ],
          "name": "stdout"
        }
      ]
    },
    {
      "cell_type": "code",
      "metadata": {
        "id": "sLTVRVwbsdA4",
        "outputId": "74a0e52c-e630-4e75-ffc3-138c4d1e409a",
        "colab": {
          "base_uri": "https://localhost:8080/"
        }
      },
      "source": [
        "import numpy as np\n",
        "import gensim\n",
        "import time\n",
        "model = gensim.models.KeyedVectors.load_word2vec_format('/content/drive/My Drive/GoogleNews-vectors-negative300.bin', binary=True)\n",
        "king_vec = model.wv['king'][np.newaxis, :]\n",
        "index = nmslib.init(space='cosinesimil', method='sw-graph')\n",
        "nmslib.addDataPointBatch(index, np.arange(model.wv.syn0.shape[0], dtype=np.int32), model.wv.syn0)\n",
        "index.createIndex({}, print_progress=True)\n",
        "start = time.time()\n",
        "items = nmslib.knnQuery(index, 10, king_vec.tolist())\n",
        "print(time.time() - start)\n",
        "print([model.wv.index2word[idx] for idx in items])"
      ],
      "execution_count": 2,
      "outputs": [
        {
          "output_type": "stream",
          "text": [
            "/usr/local/lib/python3.6/dist-packages/ipykernel_launcher.py:5: DeprecationWarning: Call to deprecated `wv` (Attribute will be removed in 4.0.0, use self instead).\n",
            "  \"\"\"\n",
            "/usr/local/lib/python3.6/dist-packages/ipykernel_launcher.py:7: DeprecationWarning: Call to deprecated `wv` (Attribute will be removed in 4.0.0, use self instead).\n",
            "  import sys\n",
            "/usr/local/lib/python3.6/dist-packages/ipykernel_launcher.py:7: DeprecationWarning: Call to deprecated `syn0` (Attribute will be removed in 4.0.0, use self.wv.vectors instead).\n",
            "  import sys\n"
          ],
          "name": "stderr"
        },
        {
          "output_type": "stream",
          "text": [
            "0.0010361671447753906\n",
            "['Hashemite_king', 'Emir_Faisal', 'Cleopatra_VII', 'king_Nebuchadnezzar', 'Amalekite', 'Peru_Atahualpa', 'Nejd', 'Qianlong_emperor', 'Queen_Vashti', 'serpent_god']\n"
          ],
          "name": "stdout"
        },
        {
          "output_type": "stream",
          "text": [
            "/usr/local/lib/python3.6/dist-packages/ipykernel_launcher.py:12: DeprecationWarning: Call to deprecated `wv` (Attribute will be removed in 4.0.0, use self instead).\n",
            "  if sys.path[0] == '':\n"
          ],
          "name": "stderr"
        }
      ]
    },
    {
      "cell_type": "code",
      "metadata": {
        "id": "Nz1l3D_Ltj2b"
      },
      "source": [
        ""
      ],
      "execution_count": null,
      "outputs": []
    }
  ]
}